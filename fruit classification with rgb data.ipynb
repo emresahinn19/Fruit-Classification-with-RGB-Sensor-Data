{
  "cells": [
    {
      "cell_type": "code",
      "execution_count": 2,
      "metadata": {
        "id": "LTowbyCLN2wc"
      },
      "outputs": [],
      "source": [
        "import numpy as np\n",
        "import pandas as pd\n",
        "import tensorflow as tf\n",
        "from tensorflow.keras.utils import to_categorical\n",
        "import matplotlib.pyplot as plt\n",
        "from keras import layers\n",
        "from keras import models\n",
        "\n",
        "\n"
      ]
    },
    {
      "cell_type": "code",
      "execution_count": 3,
      "metadata": {
        "colab": {
          "base_uri": "https://localhost:8080/"
        },
        "id": "DwhDAwKgzxi9",
        "outputId": "12981db9-112f-4bb7-ea5d-ed64ca34e1ed"
      },
      "outputs": [
        {
          "output_type": "stream",
          "name": "stdout",
          "text": [
            "153\n",
            "51\n",
            "52\n"
          ]
        }
      ],
      "source": [
        "from pandas.core.frame import DataFrame\n",
        "CLASSES = ['apple','banana','orange']\n",
        "NUM_CLASSES = len(CLASSES)\n",
        "# siniflari kodlayip output olarak ayarlayalim\n",
        "one_hot_encoded = np.eye(NUM_CLASSES)\n",
        "# input ve output arraylerini olusturalim\n",
        "inputs = []\n",
        "outputs = []\n",
        "\n",
        "\n",
        "# 3 csv dosyasini da okuyalim\n",
        "for i in range(NUM_CLASSES): #buradaki for dongusu her num_class ornegin 0. sınıf icin yani apple class'i icin\n",
        "  fruit_samples = CLASSES[i]\n",
        "  data= pd.read_csv(\"/content/\"+fruit_samples+\".csv\")   # len(data) aliyor yani apple.csv deki satir sayisi kadar oluyor.\n",
        "  output = one_hot_encoded[i]\n",
        "  \n",
        "  for cls_len in range(len(data)):\n",
        "    input_tensor = []\n",
        "    \n",
        "    input_tensor += [(data['Red'][cls_len]),\n",
        "                      (data['Green'][cls_len]),\n",
        "                       (data['Blue'][cls_len])]\n",
        "          \n",
        "      \n",
        "    \n",
        "    inputs.append(input_tensor)\n",
        "    outputs.append(output)\n",
        "   \n",
        "#\n",
        "inputs = np.array(inputs)\n",
        "outputs = np.array(outputs)\n",
        "# bu metod daha az hafıza kullanıyor.\n",
        "rows = len(inputs) \n",
        "random_range = np.arange(rows)\n",
        "np.random.shuffle(random_range)\n",
        "# \n",
        "inputs = inputs[random_range]\n",
        "outputs = outputs[random_range]\n",
        "#\n",
        "input_train, input_test, input_validation = np.split(inputs,[int(0.6*len(inputs)),int(0.8*len(inputs))])\n",
        "output_train, output_test, output_validation = np.split(outputs,[int(0.6*len(outputs)),int(0.8*len(outputs))])\n",
        "\n",
        "print(len(input_train))\n",
        "print(len(input_test))\n",
        "print(len(input_validation))"
      ]
    },
    {
      "cell_type": "code",
      "source": [
        "#şimdi de modelimizi oluşturuyoruz\n",
        "model = models.Sequential()\n",
        "model.add(layers.Dense(50, activation='relu'))\n",
        "model.add(layers.Dropout(0.2))\n",
        "model.add(layers.Dense(35,activation = 'relu'))\n",
        "model.add(layers.Dropout(0.2))\n",
        "model.add(layers.Dense(20,activation='relu'))\n",
        "model.add(layers.Dropout(0.2))\n",
        "model.add(layers.Dense(12,activation='relu'))\n",
        "model.add(layers.Dense(NUM_CLASSES, activation='softmax'))\n",
        "#\n",
        "model.compile(optimizer='rmsprop', loss ='mae',metrics=['acc'])\n",
        "history = model.fit(input_train,output_train,\n",
        "                    epochs = 80,\n",
        "                    batch_size = 600,\n",
        "                    validation_data =(input_validation,output_validation)\n",
        "                    )\n"
      ],
      "metadata": {
        "colab": {
          "base_uri": "https://localhost:8080/"
        },
        "id": "cLIms7x4ZO-a",
        "outputId": "f15175f4-4f93-4c96-bab9-ab3299d1330c"
      },
      "execution_count": 6,
      "outputs": [
        {
          "output_type": "stream",
          "name": "stdout",
          "text": [
            "Epoch 1/80\n",
            "1/1 [==============================] - 1s 1s/step - loss: 0.4438 - acc: 0.4052 - val_loss: 0.4434 - val_acc: 0.4038\n",
            "Epoch 2/80\n",
            "1/1 [==============================] - 0s 37ms/step - loss: 0.4436 - acc: 0.3856 - val_loss: 0.4429 - val_acc: 0.4038\n",
            "Epoch 3/80\n",
            "1/1 [==============================] - 0s 35ms/step - loss: 0.4428 - acc: 0.3856 - val_loss: 0.4415 - val_acc: 0.4038\n",
            "Epoch 4/80\n",
            "1/1 [==============================] - 0s 33ms/step - loss: 0.4418 - acc: 0.3922 - val_loss: 0.4398 - val_acc: 0.4038\n",
            "Epoch 5/80\n",
            "1/1 [==============================] - 0s 58ms/step - loss: 0.4413 - acc: 0.4248 - val_loss: 0.4387 - val_acc: 0.4038\n",
            "Epoch 6/80\n",
            "1/1 [==============================] - 0s 73ms/step - loss: 0.4406 - acc: 0.4118 - val_loss: 0.4374 - val_acc: 0.4038\n",
            "Epoch 7/80\n",
            "1/1 [==============================] - 0s 57ms/step - loss: 0.4388 - acc: 0.4118 - val_loss: 0.4362 - val_acc: 0.4038\n",
            "Epoch 8/80\n",
            "1/1 [==============================] - 0s 48ms/step - loss: 0.4389 - acc: 0.3987 - val_loss: 0.4355 - val_acc: 0.4038\n",
            "Epoch 9/80\n",
            "1/1 [==============================] - 0s 45ms/step - loss: 0.4367 - acc: 0.4510 - val_loss: 0.4337 - val_acc: 0.4038\n",
            "Epoch 10/80\n",
            "1/1 [==============================] - 0s 50ms/step - loss: 0.4380 - acc: 0.4183 - val_loss: 0.4331 - val_acc: 0.4038\n",
            "Epoch 11/80\n",
            "1/1 [==============================] - 0s 39ms/step - loss: 0.4359 - acc: 0.4052 - val_loss: 0.4318 - val_acc: 0.4038\n",
            "Epoch 12/80\n",
            "1/1 [==============================] - 0s 36ms/step - loss: 0.4353 - acc: 0.3725 - val_loss: 0.4306 - val_acc: 0.4038\n",
            "Epoch 13/80\n",
            "1/1 [==============================] - 0s 34ms/step - loss: 0.4344 - acc: 0.4837 - val_loss: 0.4294 - val_acc: 0.4038\n",
            "Epoch 14/80\n",
            "1/1 [==============================] - 0s 36ms/step - loss: 0.4349 - acc: 0.4248 - val_loss: 0.4285 - val_acc: 0.4038\n",
            "Epoch 15/80\n",
            "1/1 [==============================] - 0s 34ms/step - loss: 0.4323 - acc: 0.4641 - val_loss: 0.4276 - val_acc: 0.4038\n",
            "Epoch 16/80\n",
            "1/1 [==============================] - 0s 32ms/step - loss: 0.4311 - acc: 0.4379 - val_loss: 0.4266 - val_acc: 0.4038\n",
            "Epoch 17/80\n",
            "1/1 [==============================] - 0s 35ms/step - loss: 0.4328 - acc: 0.4118 - val_loss: 0.4263 - val_acc: 0.5962\n",
            "Epoch 18/80\n",
            "1/1 [==============================] - 0s 39ms/step - loss: 0.4287 - acc: 0.4771 - val_loss: 0.4250 - val_acc: 0.4615\n",
            "Epoch 19/80\n",
            "1/1 [==============================] - 0s 32ms/step - loss: 0.4311 - acc: 0.4641 - val_loss: 0.4236 - val_acc: 0.4615\n",
            "Epoch 20/80\n",
            "1/1 [==============================] - 0s 33ms/step - loss: 0.4286 - acc: 0.4575 - val_loss: 0.4226 - val_acc: 0.4423\n",
            "Epoch 21/80\n",
            "1/1 [==============================] - 0s 50ms/step - loss: 0.4288 - acc: 0.4510 - val_loss: 0.4220 - val_acc: 0.4615\n",
            "Epoch 22/80\n",
            "1/1 [==============================] - 0s 56ms/step - loss: 0.4257 - acc: 0.4837 - val_loss: 0.4207 - val_acc: 0.4615\n",
            "Epoch 23/80\n",
            "1/1 [==============================] - 0s 33ms/step - loss: 0.4255 - acc: 0.4706 - val_loss: 0.4198 - val_acc: 0.4615\n",
            "Epoch 24/80\n",
            "1/1 [==============================] - 0s 34ms/step - loss: 0.4242 - acc: 0.4706 - val_loss: 0.4184 - val_acc: 0.5385\n",
            "Epoch 25/80\n",
            "1/1 [==============================] - 0s 40ms/step - loss: 0.4237 - acc: 0.4967 - val_loss: 0.4171 - val_acc: 0.5769\n",
            "Epoch 26/80\n",
            "1/1 [==============================] - 0s 32ms/step - loss: 0.4227 - acc: 0.5163 - val_loss: 0.4155 - val_acc: 0.4808\n",
            "Epoch 27/80\n",
            "1/1 [==============================] - 0s 31ms/step - loss: 0.4233 - acc: 0.4706 - val_loss: 0.4149 - val_acc: 0.5962\n",
            "Epoch 28/80\n",
            "1/1 [==============================] - 0s 39ms/step - loss: 0.4213 - acc: 0.5098 - val_loss: 0.4137 - val_acc: 0.5769\n",
            "Epoch 29/80\n",
            "1/1 [==============================] - 0s 32ms/step - loss: 0.4205 - acc: 0.4967 - val_loss: 0.4129 - val_acc: 0.5769\n",
            "Epoch 30/80\n",
            "1/1 [==============================] - 0s 37ms/step - loss: 0.4145 - acc: 0.5621 - val_loss: 0.4110 - val_acc: 0.4808\n",
            "Epoch 31/80\n",
            "1/1 [==============================] - 0s 36ms/step - loss: 0.4195 - acc: 0.4771 - val_loss: 0.4091 - val_acc: 0.5577\n",
            "Epoch 32/80\n",
            "1/1 [==============================] - 0s 34ms/step - loss: 0.4169 - acc: 0.4575 - val_loss: 0.4076 - val_acc: 0.5769\n",
            "Epoch 33/80\n",
            "1/1 [==============================] - 0s 48ms/step - loss: 0.4110 - acc: 0.5229 - val_loss: 0.4059 - val_acc: 0.5769\n",
            "Epoch 34/80\n",
            "1/1 [==============================] - 0s 34ms/step - loss: 0.4154 - acc: 0.4837 - val_loss: 0.4047 - val_acc: 0.5962\n",
            "Epoch 35/80\n",
            "1/1 [==============================] - 0s 41ms/step - loss: 0.4133 - acc: 0.5098 - val_loss: 0.4036 - val_acc: 0.6154\n",
            "Epoch 36/80\n",
            "1/1 [==============================] - 0s 35ms/step - loss: 0.4134 - acc: 0.5098 - val_loss: 0.4015 - val_acc: 0.5962\n",
            "Epoch 37/80\n",
            "1/1 [==============================] - 0s 31ms/step - loss: 0.4133 - acc: 0.5163 - val_loss: 0.4002 - val_acc: 0.6154\n",
            "Epoch 38/80\n",
            "1/1 [==============================] - 0s 36ms/step - loss: 0.4152 - acc: 0.5033 - val_loss: 0.3989 - val_acc: 0.6154\n",
            "Epoch 39/80\n",
            "1/1 [==============================] - 0s 35ms/step - loss: 0.4079 - acc: 0.5556 - val_loss: 0.3973 - val_acc: 0.6154\n",
            "Epoch 40/80\n",
            "1/1 [==============================] - 0s 36ms/step - loss: 0.4072 - acc: 0.5686 - val_loss: 0.3957 - val_acc: 0.6154\n",
            "Epoch 41/80\n",
            "1/1 [==============================] - 0s 37ms/step - loss: 0.4084 - acc: 0.5163 - val_loss: 0.3933 - val_acc: 0.6154\n",
            "Epoch 42/80\n",
            "1/1 [==============================] - 0s 31ms/step - loss: 0.4046 - acc: 0.5882 - val_loss: 0.3909 - val_acc: 0.6154\n",
            "Epoch 43/80\n",
            "1/1 [==============================] - 0s 42ms/step - loss: 0.4028 - acc: 0.5163 - val_loss: 0.3888 - val_acc: 0.6154\n",
            "Epoch 44/80\n",
            "1/1 [==============================] - 0s 34ms/step - loss: 0.3974 - acc: 0.5686 - val_loss: 0.3867 - val_acc: 0.6154\n",
            "Epoch 45/80\n",
            "1/1 [==============================] - 0s 34ms/step - loss: 0.4008 - acc: 0.5686 - val_loss: 0.3843 - val_acc: 0.6154\n",
            "Epoch 46/80\n",
            "1/1 [==============================] - 0s 34ms/step - loss: 0.3969 - acc: 0.5882 - val_loss: 0.3825 - val_acc: 0.6154\n",
            "Epoch 47/80\n",
            "1/1 [==============================] - 0s 33ms/step - loss: 0.3910 - acc: 0.5752 - val_loss: 0.3806 - val_acc: 0.6346\n",
            "Epoch 48/80\n",
            "1/1 [==============================] - 0s 32ms/step - loss: 0.3866 - acc: 0.6275 - val_loss: 0.3778 - val_acc: 0.6154\n",
            "Epoch 49/80\n",
            "1/1 [==============================] - 0s 33ms/step - loss: 0.3913 - acc: 0.5882 - val_loss: 0.3760 - val_acc: 0.6346\n",
            "Epoch 50/80\n",
            "1/1 [==============================] - 0s 33ms/step - loss: 0.3851 - acc: 0.6013 - val_loss: 0.3732 - val_acc: 0.6154\n",
            "Epoch 51/80\n",
            "1/1 [==============================] - 0s 35ms/step - loss: 0.3935 - acc: 0.5752 - val_loss: 0.3717 - val_acc: 0.6346\n",
            "Epoch 52/80\n",
            "1/1 [==============================] - 0s 38ms/step - loss: 0.3850 - acc: 0.6144 - val_loss: 0.3694 - val_acc: 0.6538\n",
            "Epoch 53/80\n",
            "1/1 [==============================] - 0s 43ms/step - loss: 0.3862 - acc: 0.6144 - val_loss: 0.3670 - val_acc: 0.6346\n",
            "Epoch 54/80\n",
            "1/1 [==============================] - 0s 34ms/step - loss: 0.3821 - acc: 0.5752 - val_loss: 0.3648 - val_acc: 0.6346\n",
            "Epoch 55/80\n",
            "1/1 [==============================] - 0s 40ms/step - loss: 0.3806 - acc: 0.6209 - val_loss: 0.3625 - val_acc: 0.6346\n",
            "Epoch 56/80\n",
            "1/1 [==============================] - 0s 35ms/step - loss: 0.3802 - acc: 0.5686 - val_loss: 0.3606 - val_acc: 0.6538\n",
            "Epoch 57/80\n",
            "1/1 [==============================] - 0s 42ms/step - loss: 0.3801 - acc: 0.5948 - val_loss: 0.3589 - val_acc: 0.6538\n",
            "Epoch 58/80\n",
            "1/1 [==============================] - 0s 53ms/step - loss: 0.3743 - acc: 0.6209 - val_loss: 0.3562 - val_acc: 0.6538\n",
            "Epoch 59/80\n",
            "1/1 [==============================] - 0s 42ms/step - loss: 0.3743 - acc: 0.6405 - val_loss: 0.3536 - val_acc: 0.6538\n",
            "Epoch 60/80\n",
            "1/1 [==============================] - 0s 46ms/step - loss: 0.3712 - acc: 0.6078 - val_loss: 0.3513 - val_acc: 0.6538\n",
            "Epoch 61/80\n",
            "1/1 [==============================] - 0s 43ms/step - loss: 0.3631 - acc: 0.6405 - val_loss: 0.3487 - val_acc: 0.6538\n",
            "Epoch 62/80\n",
            "1/1 [==============================] - 0s 37ms/step - loss: 0.3637 - acc: 0.6209 - val_loss: 0.3475 - val_acc: 0.6731\n",
            "Epoch 63/80\n",
            "1/1 [==============================] - 0s 33ms/step - loss: 0.3568 - acc: 0.6797 - val_loss: 0.3432 - val_acc: 0.6538\n",
            "Epoch 64/80\n",
            "1/1 [==============================] - 0s 33ms/step - loss: 0.3578 - acc: 0.6340 - val_loss: 0.3404 - val_acc: 0.6538\n",
            "Epoch 65/80\n",
            "1/1 [==============================] - 0s 37ms/step - loss: 0.3624 - acc: 0.6340 - val_loss: 0.3381 - val_acc: 0.6538\n",
            "Epoch 66/80\n",
            "1/1 [==============================] - 0s 35ms/step - loss: 0.3614 - acc: 0.6013 - val_loss: 0.3363 - val_acc: 0.6731\n",
            "Epoch 67/80\n",
            "1/1 [==============================] - 0s 35ms/step - loss: 0.3538 - acc: 0.6536 - val_loss: 0.3324 - val_acc: 0.6538\n",
            "Epoch 68/80\n",
            "1/1 [==============================] - 0s 39ms/step - loss: 0.3479 - acc: 0.6471 - val_loss: 0.3300 - val_acc: 0.6731\n",
            "Epoch 69/80\n",
            "1/1 [==============================] - 0s 37ms/step - loss: 0.3422 - acc: 0.6405 - val_loss: 0.3290 - val_acc: 0.6731\n",
            "Epoch 70/80\n",
            "1/1 [==============================] - 0s 41ms/step - loss: 0.3552 - acc: 0.6536 - val_loss: 0.3245 - val_acc: 0.6538\n",
            "Epoch 71/80\n",
            "1/1 [==============================] - 0s 36ms/step - loss: 0.3403 - acc: 0.6601 - val_loss: 0.3222 - val_acc: 0.6731\n",
            "Epoch 72/80\n",
            "1/1 [==============================] - 0s 33ms/step - loss: 0.3443 - acc: 0.6405 - val_loss: 0.3199 - val_acc: 0.6731\n",
            "Epoch 73/80\n",
            "1/1 [==============================] - 0s 34ms/step - loss: 0.3477 - acc: 0.6275 - val_loss: 0.3181 - val_acc: 0.6731\n",
            "Epoch 74/80\n",
            "1/1 [==============================] - 0s 37ms/step - loss: 0.3304 - acc: 0.6732 - val_loss: 0.3141 - val_acc: 0.6538\n",
            "Epoch 75/80\n",
            "1/1 [==============================] - 0s 35ms/step - loss: 0.3330 - acc: 0.6536 - val_loss: 0.3121 - val_acc: 0.6731\n",
            "Epoch 76/80\n",
            "1/1 [==============================] - 0s 32ms/step - loss: 0.3322 - acc: 0.6536 - val_loss: 0.3092 - val_acc: 0.6731\n",
            "Epoch 77/80\n",
            "1/1 [==============================] - 0s 34ms/step - loss: 0.3292 - acc: 0.6732 - val_loss: 0.3067 - val_acc: 0.6731\n",
            "Epoch 78/80\n",
            "1/1 [==============================] - 0s 40ms/step - loss: 0.3317 - acc: 0.6405 - val_loss: 0.3046 - val_acc: 0.6731\n",
            "Epoch 79/80\n",
            "1/1 [==============================] - 0s 33ms/step - loss: 0.3272 - acc: 0.6601 - val_loss: 0.3036 - val_acc: 0.6923\n",
            "Epoch 80/80\n",
            "1/1 [==============================] - 0s 33ms/step - loss: 0.3220 - acc: 0.6667 - val_loss: 0.2998 - val_acc: 0.6731\n"
          ]
        }
      ]
    },
    {
      "cell_type": "code",
      "source": [
        "accuracy = history.history['acc']\n",
        "val_acc = history.history['val_acc']\n",
        "loss = history.history['loss']\n",
        "val_loss = history.history['val_loss']\n",
        "\n",
        "epochs = range(1,len(accuracy)+1)\n",
        "plt.plot(epochs,accuracy,'bo',label='Egitim basarimi')\n",
        "plt.plot(epochs,val_acc,'b',label='Dogrulama basarimi')\n",
        "plt.title('egitim ve dogrulama')\n",
        "plt.legend()\n",
        "plt.figure()\n",
        "#\n",
        "plt.plot(epochs,loss,'bo',label='Egitim Kaybi ')\n",
        "plt.plot(epochs,val_loss,'b',label='Dogrulama Kaybi')\n",
        "plt.legend()\n",
        "plt.figure()\n",
        "\n",
        "plt.show()\n"
      ],
      "metadata": {
        "colab": {
          "base_uri": "https://localhost:8080/",
          "height": 547
        },
        "id": "WFHb_QnVdL-H",
        "outputId": "a72d3700-2bae-4bea-85c9-c8fba14e424b"
      },
      "execution_count": 7,
      "outputs": [
        {
          "output_type": "display_data",
          "data": {
            "text/plain": [
              "<Figure size 432x288 with 1 Axes>"
            ],
            "image/png": "[encoded data removed]"
          },
          "metadata": {
            "needs_background": "light"
          }
        },
        {
          "output_type": "display_data",
          "data": {
            "text/plain": [
              "<Figure size 432x288 with 1 Axes>"
            ],
            "image/png": "[encoded data removed]"
          },
          "metadata": {
            "needs_background": "light"
          }
        },
        {
          "output_type": "display_data",
          "data": {
            "text/plain": [
              "<Figure size 432x288 with 0 Axes>"
            ]
          },
          "metadata": {}
        }
      ]
    }
  ],
  "metadata": {
    "colab": {
      "provenance": []
    },
    "kernelspec": {
      "display_name": "Python 3",
      "name": "python3"
    }
  },
  "nbformat": 4,
  "nbformat_minor": 0
}